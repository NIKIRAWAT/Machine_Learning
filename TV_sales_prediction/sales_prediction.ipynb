{
  "nbformat": 4,
  "nbformat_minor": 0,
  "metadata": {
    "colab": {
      "provenance": []
    },
    "kernelspec": {
      "name": "python3",
      "display_name": "Python 3"
    },
    "language_info": {
      "name": "python"
    }
  },
  "cells": [
    {
      "cell_type": "markdown",
      "source": [
        "**AIM: To Implement Linear regression for Television Advertisment Cost and Sales.**"
      ],
      "metadata": {
        "id": "8fQt_dCxG2tx"
      }
    },
    {
      "cell_type": "markdown",
      "source": [
        "**THEORY**:Linear regression analysis is used to predict the value of a variable based on the value of another variable. The variable you want to predict is called the dependent variable. The variable you are using to predict the other variable's value is called the independent variable.\n",
        "This form of analysis estimates the coefficients of the linear equation, involving one or more independent variables that best predict the value of the dependent variable. Linear regression fits a straight line or surface that minimizes the discrepancies between predicted and actual output values.  "
      ],
      "metadata": {
        "id": "wdQhVzoqHV_t"
      }
    },
    {
      "cell_type": "markdown",
      "source": [
        "**CODE:**\n",
        "\n",
        "\n",
        "\n",
        "\n",
        "\n",
        "\n"
      ],
      "metadata": {
        "id": "C_P12n6xKPD9"
      }
    },
    {
      "cell_type": "code",
      "execution_count": null,
      "metadata": {
        "colab": {
          "base_uri": "https://localhost:8080/"
        },
        "id": "f6kZI2lhR6D5",
        "outputId": "8c7848d9-71dc-487e-ee54-a9a605d8b860"
      },
      "outputs": [
        {
          "output_type": "stream",
          "name": "stdout",
          "text": [
            "Mounted at /content/gdrive\n"
          ]
        }
      ],
      "source": [
        "from google.colab import drive\n",
        "\n",
        "drive.mount('/content/gdrive')"
      ]
    },
    {
      "cell_type": "code",
      "source": [
        "cd /content/gdrive/My Drive/Colab Notebooks/ML PRACTICAL/Linear Regression"
      ],
      "metadata": {
        "colab": {
          "base_uri": "https://localhost:8080/"
        },
        "id": "ING0Vf8sU04Q",
        "outputId": "83b9137e-410c-4a58-c0b7-93d8605cda44"
      },
      "execution_count": null,
      "outputs": [
        {
          "output_type": "stream",
          "name": "stdout",
          "text": [
            "/content/gdrive/My Drive/Colab Notebooks/ML PRACTICAL/Linear Regression\n"
          ]
        }
      ]
    },
    {
      "cell_type": "code",
      "source": [
        "ls"
      ],
      "metadata": {
        "colab": {
          "base_uri": "https://localhost:8080/"
        },
        "id": "hZ2BUNbzUmMS",
        "outputId": "a3ddb0a5-7367-43d6-fdf4-f275dceb709d"
      },
      "execution_count": null,
      "outputs": [
        {
          "output_type": "stream",
          "name": "stdout",
          "text": [
            " advertising.csv   house.xlsx           slr01.csv   slr09.csv\n",
            " house.csv        'MLLAB 2_(1).ipynb'   slr01.xls   slr09.xls\n"
          ]
        }
      ]
    },
    {
      "cell_type": "code",
      "source": [
        "import numpy as np\n",
        "import matplotlib.pyplot as plt\n",
        "import pandas as pd"
      ],
      "metadata": {
        "id": "BB5U4p34VqGw"
      },
      "execution_count": null,
      "outputs": []
    },
    {
      "cell_type": "code",
      "source": [
        "#import data set\n",
        "dataset= pd.read_csv('advertising.csv')# to read excel\n",
        "X= dataset.iloc[:,:-1].values #islocated\n",
        "Y= dataset.iloc[:,1].values\n",
        "print(dataset)"
      ],
      "metadata": {
        "colab": {
          "base_uri": "https://localhost:8080/"
        },
        "id": "dBU8dNtPVy4S",
        "outputId": "1dcdae6f-32fc-4e06-d35f-5158933851f3"
      },
      "execution_count": null,
      "outputs": [
        {
          "output_type": "stream",
          "name": "stdout",
          "text": [
            "        TV  Sales\n",
            "0    230.1   22.1\n",
            "1     44.5   10.4\n",
            "2     17.2   12.0\n",
            "3    151.5   16.5\n",
            "4    180.8   17.9\n",
            "..     ...    ...\n",
            "195   38.2    7.6\n",
            "196   94.2   14.0\n",
            "197  177.0   14.8\n",
            "198  283.6   25.5\n",
            "199  232.1   18.4\n",
            "\n",
            "[200 rows x 2 columns]\n"
          ]
        }
      ]
    },
    {
      "cell_type": "code",
      "source": [
        "#Splitting the data\n",
        "from sklearn.model_selection import train_test_split\n",
        "X_train, X_test, Y_train, Y_test= train_test_split(X,Y,test_size= 1/3)# splitting test and train data test size is the ratio 25:75\n",
        "#Fitting Simple Linear Regression ipynb\n",
        "#This is called Model\n",
        "from sklearn.linear_model import LinearRegression\n",
        "regressor= LinearRegression()\n",
        "regressor.fit(X_train,Y_train)"
      ],
      "metadata": {
        "colab": {
          "base_uri": "https://localhost:8080/"
        },
        "id": "fxc9sXjcZo8h",
        "outputId": "76c8d9bf-03d8-4f96-e692-d1cd4038c56a"
      },
      "execution_count": null,
      "outputs": [
        {
          "output_type": "execute_result",
          "data": {
            "text/plain": [
              "LinearRegression()"
            ]
          },
          "metadata": {},
          "execution_count": 6
        }
      ]
    },
    {
      "cell_type": "code",
      "source": [
        "##Predicting the test results\n",
        "Y_pred= regressor.predict(X_test)\n",
        "\n",
        "#Visualising the training set Results\n",
        "\n",
        "plt.scatter(X_train, Y_train, color='yellow')\n",
        "plt.plot(X_train, regressor.predict(X_train), color='blue')\n",
        "plt.title('TV sales prediction')\n",
        "plt.xlabel('Advertisement cost')\n",
        "plt.ylabel('TV sales ')\n",
        "plt.show()\n",
        "plt.scatter(X_test, Y_test, color='green')\n",
        "plt.plot(X_test, regressor.predict(X_test), color='red')\n",
        "plt.title('TV sales prediction')\n",
        "plt.xlabel('Advertisement cost')\n",
        "plt.ylabel('TV sales')\n",
        "plt.show()\n"
      ],
      "metadata": {
        "colab": {
          "base_uri": "https://localhost:8080/",
          "height": 573
        },
        "id": "chP-rUxhZ8Lh",
        "outputId": "8a94416b-353a-41d3-9986-67895ee60124"
      },
      "execution_count": null,
      "outputs": [
        {
          "output_type": "display_data",
          "data": {
            "text/plain": [
              "<Figure size 432x288 with 1 Axes>"
            ],
            "image/png": "[encoded data removed]"
          },
          "metadata": {
            "needs_background": "light"
          }
        },
        {
          "output_type": "display_data",
          "data": {
            "text/plain": [
              "<Figure size 432x288 with 1 Axes>"
            ],
            "image/png": "[encoded data removed]"
          },
          "metadata": {
            "needs_background": "light"
          }
        }
      ]
    },
    {
      "cell_type": "markdown",
      "source": [
        "**OUTPUT**"
      ],
      "metadata": {
        "id": "emwlm0xpqTyq"
      }
    },
    {
      "cell_type": "code",
      "source": [
        "print(regressor.predict([[1002]]))"
      ],
      "metadata": {
        "colab": {
          "base_uri": "https://localhost:8080/"
        },
        "id": "lKb1REghdAJW",
        "outputId": "055b959b-1124-4834-d07d-1a15c6ab9652"
      },
      "execution_count": null,
      "outputs": [
        {
          "output_type": "stream",
          "name": "stdout",
          "text": [
            "[63.12573275]\n"
          ]
        }
      ]
    },
    {
      "cell_type": "code",
      "source": [
        "a=int(input(\"What is the advertisement cost? \"))\n",
        "print('The sales of TV is', regressor.predict([[a]]))"
      ],
      "metadata": {
        "colab": {
          "base_uri": "https://localhost:8080/"
        },
        "id": "P3Vte6LzdHrV",
        "outputId": "f8f2b1d6-ea3f-4667-a57e-1dab3cdd85ff"
      },
      "execution_count": null,
      "outputs": [
        {
          "output_type": "stream",
          "name": "stdout",
          "text": [
            "What is the advertisement cost? 1234\n",
            "The sales of TV is [76.13248144]\n"
          ]
        }
      ]
    }
  ]
}